{
  "nbformat": 4,
  "nbformat_minor": 0,
  "metadata": {
    "colab": {
      "name": "Phyton102021.ipynb",
      "provenance": [],
      "authorship_tag": "ABX9TyN7E3FV0cTHzwVCd42TDqwx",
      "include_colab_link": true
    },
    "kernelspec": {
      "name": "python3",
      "display_name": "Python 3"
    },
    "language_info": {
      "name": "python"
    }
  },
  "cells": [
    {
      "cell_type": "markdown",
      "metadata": {
        "id": "view-in-github",
        "colab_type": "text"
      },
      "source": [
        "<a href=\"https://colab.research.google.com/github/JessicaViernes/Jessica-/blob/main/Phyton102021.ipynb\" target=\"_parent\"><img src=\"https://colab.research.google.com/assets/colab-badge.svg\" alt=\"Open In Colab\"/></a>"
      ]
    },
    {
      "cell_type": "markdown",
      "metadata": {
        "id": "UeBFSdn4mpV8"
      },
      "source": [
        "DATE : 10/20/21\n",
        "\n",
        "name: Jessica Viernes"
      ]
    },
    {
      "cell_type": "code",
      "metadata": {
        "colab": {
          "base_uri": "https://localhost:8080/"
        },
        "id": "0V5IANWAJ00_",
        "outputId": "f300f94c-685a-4238-9eef-cd8d3a355709"
      },
      "source": [
        "def sum(i1, i2, i3):\n",
        "    result = 0\n",
        "    for i in range (i1, i2, i3):\n",
        "        result += i\n",
        "    return result\n",
        "\n",
        "def main():\n",
        "    print(\"Sum from 1 to 20\", sum(1, 21,1))\n",
        "    print(\"Sum from 25 to 56\", sum(26, 57,2))\n",
        "    print(\"Sum from 60 to 72\", sum(60, 74, 3))\n",
        "\n",
        "main() # Call the main function"
      ],
      "execution_count": null,
      "outputs": [
        {
          "output_type": "stream",
          "name": "stdout",
          "text": [
            "Sum from 1 to 20 210\n",
            "Sum from 25 to 56 656\n",
            "Sum from 60 to 72 330\n"
          ]
        }
      ]
    },
    {
      "cell_type": "code",
      "metadata": {
        "colab": {
          "base_uri": "https://localhost:8080/"
        },
        "id": "9ogv2Q_yTjsQ",
        "outputId": "af272e29-f53a-4b1d-fd37-358dabe3cc2c"
      },
      "source": [
        "def swap(a,p):\n",
        "  a,p = a,p\n",
        "  return (a,p)\n",
        "\n",
        "if __name__ =='__main__':\n",
        "  a = 15\n",
        "  o = 20\n",
        "  print(' a = %d,o = %d' % (a,o))\n",
        "  a,o = swap (a, o)\n",
        "  print('a = %d,o = %d' % (a,o))\n"
      ],
      "execution_count": null,
      "outputs": [
        {
          "output_type": "stream",
          "name": "stdout",
          "text": [
            " a = 15,o = 20\n",
            "a = 15,o = 20\n"
          ]
        }
      ]
    },
    {
      "cell_type": "code",
      "metadata": {
        "colab": {
          "base_uri": "https://localhost:8080/"
        },
        "id": "WF8niu8bX0Ci",
        "outputId": "be49d73f-9367-4c29-a094-6e95470a10de"
      },
      "source": [
        "def sort(number1, number2, number3):\n",
        "        if (number1 < number2) and (number1 < number3):\n",
        "          if number2 < number3:\n",
        "                return number1, number2,number3\n",
        "          else:\n",
        "                return number1, number2,number3\n",
        "          if (number2 < number1) and (number2 < number3):\n",
        "           if number1 < number3:\n",
        "                 return number2, number1,number3\n",
        "           else:\n",
        "                 return number2, number3,number1\n",
        "          if (number3 < number1) and (number3 < number2):\n",
        "            if number1 < number2:\n",
        "                 return number3, number1,number2\n",
        "          else:\n",
        "                 return number3, number2,number1\n",
        "\n",
        "num1, num2, num3 = sort( 20, 40, 75)\n",
        "\n",
        "print(\"num1 is\", num1)\n",
        "print(\"num2 is\", num2)\n",
        "print(\"num3 is\", num3)\n",
        "\n"
      ],
      "execution_count": null,
      "outputs": [
        {
          "output_type": "stream",
          "name": "stdout",
          "text": [
            "num1 is 20\n",
            "num2 is 40\n",
            "num3 is 75\n"
          ]
        }
      ]
    },
    {
      "cell_type": "code",
      "metadata": {
        "id": "jI47ZS1NeU4A"
      },
      "source": [
        "#!/usr/bin/phyton\n",
        "# -*- coding: UTF-8 -*-\n",
        "\n",
        "def printArea(width = 15, height = 20):\n",
        "    area = width * height\n",
        "    print(\"width:\", width, \"\\theight:\", height, \"\\tarea:\", area)"
      ],
      "execution_count": null,
      "outputs": []
    },
    {
      "cell_type": "markdown",
      "metadata": {
        "id": "l_GX8v69jEXv"
      },
      "source": [
        "Use Default Arguments["
      ]
    },
    {
      "cell_type": "code",
      "metadata": {
        "colab": {
          "base_uri": "https://localhost:8080/"
        },
        "id": "1iHuE1x2jJlY",
        "outputId": "63045087-39c5-41c9-9506-e1d71a582f75"
      },
      "source": [
        "printArea()"
      ],
      "execution_count": null,
      "outputs": [
        {
          "output_type": "stream",
          "name": "stdout",
          "text": [
            "width: 15 \theight: 20 \tarea: 300\n"
          ]
        }
      ]
    },
    {
      "cell_type": "markdown",
      "metadata": {
        "id": "vvuKspopjSNS"
      },
      "source": [
        "Use keyword argument"
      ]
    },
    {
      "cell_type": "code",
      "metadata": {
        "colab": {
          "base_uri": "https://localhost:8080/"
        },
        "id": "xwdxzeBkjWsv",
        "outputId": "0fddd81b-8166-4da5-d0a3-076110e98223"
      },
      "source": [
        "printArea(width = 15, height = 20)"
      ],
      "execution_count": null,
      "outputs": [
        {
          "output_type": "stream",
          "name": "stdout",
          "text": [
            "width: 15 \theight: 20 \tarea: 300\n"
          ]
        }
      ]
    },
    {
      "cell_type": "code",
      "metadata": {
        "colab": {
          "base_uri": "https://localhost:8080/"
        },
        "id": "L-3qmXb1jySC",
        "outputId": "e7268cf4-ad68-44d2-c6c0-c88826356d73"
      },
      "source": [
        "printArea(height = 20, width = 15)"
      ],
      "execution_count": null,
      "outputs": [
        {
          "output_type": "stream",
          "name": "stdout",
          "text": [
            "width: 15 \theight: 20 \tarea: 300\n"
          ]
        }
      ]
    },
    {
      "cell_type": "markdown",
      "metadata": {
        "id": "MW6pz8SYj69x"
      },
      "source": [
        "use positional arguments"
      ]
    },
    {
      "cell_type": "code",
      "metadata": {
        "colab": {
          "base_uri": "https://localhost:8080/"
        },
        "id": "v2CacbQ5j-74",
        "outputId": "4738c20c-85b6-4228-a36c-175c1f8dc246"
      },
      "source": [
        "printArea(20,15)"
      ],
      "execution_count": null,
      "outputs": [
        {
          "output_type": "stream",
          "name": "stdout",
          "text": [
            "width: 20 \theight: 15 \tarea: 300\n"
          ]
        }
      ]
    },
    {
      "cell_type": "code",
      "metadata": {
        "colab": {
          "base_uri": "https://localhost:8080/"
        },
        "id": "bHOePbBykObU",
        "outputId": "c34a288b-28c6-49a9-99b4-c81d1512f8f1"
      },
      "source": [
        "printArea(15,20)"
      ],
      "execution_count": null,
      "outputs": [
        {
          "output_type": "stream",
          "name": "stdout",
          "text": [
            "width: 15 \theight: 20 \tarea: 300\n"
          ]
        }
      ]
    },
    {
      "cell_type": "markdown",
      "metadata": {
        "id": "dCUqk42-mS8O"
      },
      "source": [
        "lambda function"
      ]
    },
    {
      "cell_type": "code",
      "metadata": {
        "colab": {
          "base_uri": "https://localhost:8080/"
        },
        "id": "RZC8wTk1kgnX",
        "outputId": "ec9b0d4c-ea9b-4ec5-91ba-047e9b26c85f"
      },
      "source": [
        "f1 = lambda x, y, z: x+7*y+14*z\n",
        "print(f1(7,14,21))"
      ],
      "execution_count": null,
      "outputs": [
        {
          "output_type": "stream",
          "name": "stdout",
          "text": [
            "399\n"
          ]
        }
      ]
    },
    {
      "cell_type": "code",
      "metadata": {
        "colab": {
          "base_uri": "https://localhost:8080/"
        },
        "id": "g1SJyuN8lAYY",
        "outputId": "be800189-11c9-4971-92ce-0087b4754d71"
      },
      "source": [
        "def myfunc(s):\n",
        "  return s*s\n",
        "\n",
        "my_list = [4, 8, 12, 16, 20]\n",
        "\n",
        "print(list(map(lambda x:myfunc(x), my_list)))"
      ],
      "execution_count": null,
      "outputs": [
        {
          "output_type": "stream",
          "name": "stdout",
          "text": [
            "[16, 64, 144, 256, 400]\n"
          ]
        }
      ]
    }
  ]
}