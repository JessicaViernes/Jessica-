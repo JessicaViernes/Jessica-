{
  "nbformat": 4,
  "nbformat_minor": 0,
  "metadata": {
    "colab": {
      "name": "4100E232.ipynb",
      "provenance": [],
      "authorship_tag": "ABX9TyN/wCjy3dTgxX0ROSbq7jaI",
      "include_colab_link": true
    },
    "kernelspec": {
      "display_name": "Python 3",
      "name": "python3"
    },
    "language_info": {
      "name": "python"
    }
  },
  "cells": [
    {
      "cell_type": "markdown",
      "metadata": {
        "id": "view-in-github",
        "colab_type": "text"
      },
      "source": [
        "<a href=\"https://colab.research.google.com/github/JessicaViernes/Jessica-/blob/main/4100E232.ipynb\" target=\"_parent\"><img src=\"https://colab.research.google.com/assets/colab-badge.svg\" alt=\"Open In Colab\"/></a>"
      ]
    },
    {
      "cell_type": "markdown",
      "metadata": {
        "id": "IN-8g50jYT4g"
      },
      "source": [
        "Phyton data type\n",
        "\n",
        "Date : 10/11/21\n",
        "\n",
        "Name : Jessica D. Viernes \n",
        "\n",
        "Student ID :4100E232"
      ]
    },
    {
      "cell_type": "markdown",
      "metadata": {
        "id": "-7h27NCXYzqM"
      },
      "source": [
        "1_Numerics Data type"
      ]
    },
    {
      "cell_type": "markdown",
      "metadata": {
        "id": "RIbYw0zAY9Ef"
      },
      "source": [
        "Arithmetic operators"
      ]
    },
    {
      "cell_type": "code",
      "metadata": {
        "colab": {
          "base_uri": "https://localhost:8080/"
        },
        "id": "dhZd4-jDqniE",
        "outputId": "8b6d8952-3c95-41aa-85b8-23ac667ccddd"
      },
      "source": [
        "a = 29/7\n",
        "a"
      ],
      "execution_count": null,
      "outputs": [
        {
          "data": {
            "text/plain": [
              "4.142857142857143"
            ]
          },
          "execution_count": 28,
          "metadata": {},
          "output_type": "execute_result"
        }
      ]
    },
    {
      "cell_type": "code",
      "metadata": {
        "colab": {
          "base_uri": "https://localhost:8080/"
        },
        "id": "XyUn8oWTq1-S",
        "outputId": "edd09aa6-8df3-44b7-9825-31a163e137b9"
      },
      "source": [
        "b = 29//7\n",
        "b"
      ],
      "execution_count": null,
      "outputs": [
        {
          "data": {
            "text/plain": [
              "4"
            ]
          },
          "execution_count": 29,
          "metadata": {},
          "output_type": "execute_result"
        }
      ]
    },
    {
      "cell_type": "code",
      "metadata": {
        "colab": {
          "base_uri": "https://localhost:8080/"
        },
        "id": "u0JxWZyGrDmH",
        "outputId": "2abe6c23-9375-4a54-9108-30fe071b927b"
      },
      "source": [
        "c = 29%7\n",
        "c"
      ],
      "execution_count": null,
      "outputs": [
        {
          "data": {
            "text/plain": [
              "1"
            ]
          },
          "execution_count": 30,
          "metadata": {},
          "output_type": "execute_result"
        }
      ]
    },
    {
      "cell_type": "markdown",
      "metadata": {
        "id": "hgE-0QiYrj0v"
      },
      "source": [
        "29 = 7*4+1(remainder)"
      ]
    },
    {
      "cell_type": "markdown",
      "metadata": {
        "id": "IUrQcrDrrwFt"
      },
      "source": [
        "LOGICAL OPERATORS"
      ]
    },
    {
      "cell_type": "code",
      "metadata": {
        "colab": {
          "base_uri": "https://localhost:8080/"
        },
        "id": "B5lkfR7kry62",
        "outputId": "d98f1d10-0f02-4578-8137-a14b59a280f6"
      },
      "source": [
        "x = 7\n",
        "print(x > 4 and x < 8)"
      ],
      "execution_count": null,
      "outputs": [
        {
          "name": "stdout",
          "output_type": "stream",
          "text": [
            "True\n"
          ]
        }
      ]
    },
    {
      "cell_type": "code",
      "metadata": {
        "colab": {
          "base_uri": "https://localhost:8080/"
        },
        "id": "PTgdgSqRuz8g",
        "outputId": "e3381e69-1a51-4beb-e4ab-28a2e07817b6"
      },
      "source": [
        "x = 7\n",
        "print(x > 4 and x > 8)"
      ],
      "execution_count": null,
      "outputs": [
        {
          "name": "stdout",
          "output_type": "stream",
          "text": [
            "False\n"
          ]
        }
      ]
    },
    {
      "cell_type": "code",
      "metadata": {
        "colab": {
          "base_uri": "https://localhost:8080/"
        },
        "id": "QLp9ZEh7vLJW",
        "outputId": "e20aea0f-ab30-42b6-e9ff-f2043b9c4ce4"
      },
      "source": [
        "x = 7\n",
        "print(x > 4 or x > 8)"
      ],
      "execution_count": null,
      "outputs": [
        {
          "name": "stdout",
          "output_type": "stream",
          "text": [
            "True\n"
          ]
        }
      ]
    },
    {
      "cell_type": "markdown",
      "metadata": {
        "id": "tMUID60EvdOW"
      },
      "source": [
        "BUILT-IN FUNCTIONS"
      ]
    },
    {
      "cell_type": "code",
      "metadata": {
        "colab": {
          "base_uri": "https://localhost:8080/",
          "height": 35
        },
        "id": "BFmZsi3PxUMz",
        "outputId": "a2f1b109-bb83-46aa-9163-b3824b6ee922"
      },
      "source": [
        "bin(9)"
      ],
      "execution_count": null,
      "outputs": [
        {
          "output_type": "execute_result",
          "data": {
            "application/vnd.google.colaboratory.intrinsic+json": {
              "type": "string"
            },
            "text/plain": [
              "'0b1001'"
            ]
          },
          "metadata": {},
          "execution_count": 91
        }
      ]
    },
    {
      "cell_type": "code",
      "metadata": {
        "colab": {
          "base_uri": "https://localhost:8080/"
        },
        "id": "cTACIZRgxvp7",
        "outputId": "625d252e-6a30-451d-9c5e-b7410dc175e5"
      },
      "source": [
        "int(0b1001)"
      ],
      "execution_count": null,
      "outputs": [
        {
          "data": {
            "text/plain": [
              "9"
            ]
          },
          "execution_count": 45,
          "metadata": {},
          "output_type": "execute_result"
        }
      ]
    },
    {
      "cell_type": "markdown",
      "metadata": {
        "id": "xsefHmmgyLhD"
      },
      "source": [
        "2_STRING DATA TYPE"
      ]
    },
    {
      "cell_type": "code",
      "metadata": {
        "colab": {
          "base_uri": "https://localhost:8080/",
          "height": 35
        },
        "id": "k-zhnb7E0FeB",
        "outputId": "e929c646-653b-4258-baae-58292f8c4223"
      },
      "source": [
        "str3= 'its more \"fun\" Philippines'\n",
        "str3"
      ],
      "execution_count": null,
      "outputs": [
        {
          "data": {
            "application/vnd.google.colaboratory.intrinsic+json": {
              "type": "string"
            },
            "text/plain": [
              "'its more \"fun\" Philippines'"
            ]
          },
          "execution_count": 48,
          "metadata": {},
          "output_type": "execute_result"
        }
      ]
    },
    {
      "cell_type": "markdown",
      "metadata": {
        "id": "4ekUzjxp1SsH"
      },
      "source": [
        "OPERATION ON STRINGS"
      ]
    },
    {
      "cell_type": "code",
      "metadata": {
        "colab": {
          "base_uri": "https://localhost:8080/"
        },
        "id": "Q8mdjaHJ1Uba",
        "outputId": "24dee58b-0e78-4cdd-ee31-2a29c51789ef"
      },
      "source": [
        "var = 'Hello Philippines!'\n",
        "print(\"var[0]: \", var[0])"
      ],
      "execution_count": null,
      "outputs": [
        {
          "output_type": "stream",
          "name": "stdout",
          "text": [
            "var[0]:  H\n"
          ]
        }
      ]
    },
    {
      "cell_type": "markdown",
      "metadata": {
        "id": "V_RTO2fW5mYA"
      },
      "source": [
        "SLICE OPERATION"
      ]
    },
    {
      "cell_type": "code",
      "metadata": {
        "colab": {
          "base_uri": "https://localhost:8080/"
        },
        "id": "HUndSLmc5ojk",
        "outputId": "cce9c717-147f-448d-caae-41e4573facd9"
      },
      "source": [
        "b = \"Hello, Philippines!\"\n",
        "print(b[1:5])"
      ],
      "execution_count": null,
      "outputs": [
        {
          "output_type": "stream",
          "name": "stdout",
          "text": [
            "ello\n"
          ]
        }
      ]
    },
    {
      "cell_type": "code",
      "metadata": {
        "colab": {
          "base_uri": "https://localhost:8080/"
        },
        "id": "v16MbHIo6qoy",
        "outputId": "2367b13e-4240-4d96-e751-bfa7ff700de7"
      },
      "source": [
        "b = \"Hello, Philippines!\"\n",
        "print(b[6:13])"
      ],
      "execution_count": null,
      "outputs": [
        {
          "output_type": "stream",
          "name": "stdout",
          "text": [
            " Philip\n"
          ]
        }
      ]
    },
    {
      "cell_type": "code",
      "metadata": {
        "colab": {
          "base_uri": "https://localhost:8080/"
        },
        "id": "cfcwDXQN7HJy",
        "outputId": "53e3bb5a-0fdf-40a8-ae21-7ab12f0e07ed"
      },
      "source": [
        "b = \"Hello, Philippines!\"\n",
        "print(b[13:19])"
      ],
      "execution_count": null,
      "outputs": [
        {
          "output_type": "stream",
          "name": "stdout",
          "text": [
            "pines!\n"
          ]
        }
      ]
    },
    {
      "cell_type": "code",
      "metadata": {
        "colab": {
          "base_uri": "https://localhost:8080/"
        },
        "id": "iZk-1I4i7owz",
        "outputId": "2008eec3-828c-43d2-d4d4-394291ea1b0e"
      },
      "source": [
        "b = \"Hello, Philippines!\"\n",
        "print(b[0:20])"
      ],
      "execution_count": null,
      "outputs": [
        {
          "output_type": "stream",
          "name": "stdout",
          "text": [
            "Hello, Philippines!\n"
          ]
        }
      ]
    },
    {
      "cell_type": "markdown",
      "metadata": {
        "id": "SfVDmx-b88hi"
      },
      "source": [
        "PHYTON STRING METHOD"
      ]
    },
    {
      "cell_type": "markdown",
      "metadata": {
        "id": "WJxVo_ku76A_"
      },
      "source": [
        "capitalize() Converts the first character to upper case"
      ]
    },
    {
      "cell_type": "code",
      "metadata": {
        "colab": {
          "base_uri": "https://localhost:8080/"
        },
        "id": "faYxpx7Y8amN",
        "outputId": "9f8ea435-f607-4184-db99-a36f9888aa4b"
      },
      "source": [
        " arf = \"Dog\"\n",
        "x = arf.capitalize()\n",
        "print (x)"
      ],
      "execution_count": null,
      "outputs": [
        {
          "output_type": "stream",
          "name": "stdout",
          "text": [
            "Dog\n"
          ]
        }
      ]
    },
    {
      "cell_type": "markdown",
      "metadata": {
        "id": "lsQlYp7p9tB7"
      },
      "source": [
        "JOIN METHOD"
      ]
    },
    {
      "cell_type": "code",
      "metadata": {
        "colab": {
          "base_uri": "https://localhost:8080/"
        },
        "id": "hvF5oHym9uqw",
        "outputId": "4e9bae92-27bd-47f9-b786-76f03b76f3bf"
      },
      "source": [
        "join = \"beauty and\", \"brain\"\n",
        "x = \" \".join(join)\n",
        "print (x)"
      ],
      "execution_count": null,
      "outputs": [
        {
          "output_type": "stream",
          "name": "stdout",
          "text": [
            "beauty and brain\n"
          ]
        }
      ]
    },
    {
      "cell_type": "markdown",
      "metadata": {
        "id": "p6ypWhhi-qcx"
      },
      "source": [
        "LIST DATA TYPE"
      ]
    },
    {
      "cell_type": "code",
      "metadata": {
        "colab": {
          "base_uri": "https://localhost:8080/"
        },
        "id": "B4yi34kC-sFL",
        "outputId": "9694c633-1819-41a3-ca0c-a6694c195355"
      },
      "source": [
        "list1 = [2,4,6,8,10,12]\n",
        "list1[0]"
      ],
      "execution_count": null,
      "outputs": [
        {
          "output_type": "execute_result",
          "data": {
            "text/plain": [
              "2"
            ]
          },
          "metadata": {},
          "execution_count": 77
        }
      ]
    },
    {
      "cell_type": "markdown",
      "metadata": {
        "id": "RAhm6rwD_LSX"
      },
      "source": [
        "SLICE OPERATION"
      ]
    },
    {
      "cell_type": "code",
      "metadata": {
        "colab": {
          "base_uri": "https://localhost:8080/"
        },
        "id": "0sWL047E_NyG",
        "outputId": "df4b48a2-cb8c-425c-f1e0-2812dca700d7"
      },
      "source": [
        "list1[0]"
      ],
      "execution_count": null,
      "outputs": [
        {
          "output_type": "execute_result",
          "data": {
            "text/plain": [
              "2"
            ]
          },
          "metadata": {},
          "execution_count": 81
        }
      ]
    },
    {
      "cell_type": "code",
      "metadata": {
        "colab": {
          "base_uri": "https://localhost:8080/"
        },
        "id": "ZAzS5pBI_Yks",
        "outputId": "cc2a23a6-93fa-4c70-eff9-c7d5bf780759"
      },
      "source": [
        "list1[1]"
      ],
      "execution_count": null,
      "outputs": [
        {
          "output_type": "execute_result",
          "data": {
            "text/plain": [
              "4"
            ]
          },
          "metadata": {},
          "execution_count": 83
        }
      ]
    },
    {
      "cell_type": "code",
      "metadata": {
        "colab": {
          "base_uri": "https://localhost:8080/"
        },
        "id": "HkAF9p4LAC90",
        "outputId": "b661954a-7a35-4668-8125-a25aae7ba8dd"
      },
      "source": [
        "list1[2]"
      ],
      "execution_count": null,
      "outputs": [
        {
          "output_type": "execute_result",
          "data": {
            "text/plain": [
              "6"
            ]
          },
          "metadata": {},
          "execution_count": 84
        }
      ]
    },
    {
      "cell_type": "code",
      "metadata": {
        "colab": {
          "base_uri": "https://localhost:8080/"
        },
        "id": "X6dNx570AHuS",
        "outputId": "9aa3db05-ac28-4113-a71e-ecdc1843adfb"
      },
      "source": [
        "list1[3]"
      ],
      "execution_count": null,
      "outputs": [
        {
          "output_type": "execute_result",
          "data": {
            "text/plain": [
              "8"
            ]
          },
          "metadata": {},
          "execution_count": 85
        }
      ]
    },
    {
      "cell_type": "code",
      "metadata": {
        "colab": {
          "base_uri": "https://localhost:8080/"
        },
        "id": "EtktLrlxAMkx",
        "outputId": "52279815-1011-4447-c822-4eac16d9d29c"
      },
      "source": [
        "list1[4]"
      ],
      "execution_count": null,
      "outputs": [
        {
          "output_type": "execute_result",
          "data": {
            "text/plain": [
              "10"
            ]
          },
          "metadata": {},
          "execution_count": 86
        }
      ]
    },
    {
      "cell_type": "markdown",
      "metadata": {
        "id": "UA55Db98_krr"
      },
      "source": [
        "LIST BUILT-IN FUNCTIONS"
      ]
    },
    {
      "cell_type": "code",
      "metadata": {
        "colab": {
          "base_uri": "https://localhost:8080/"
        },
        "id": "hOCFjxUx_obM",
        "outputId": "685bcef8-959f-45c2-92e3-8ec3e764e1d1"
      },
      "source": [
        "len(list1)"
      ],
      "execution_count": null,
      "outputs": [
        {
          "output_type": "execute_result",
          "data": {
            "text/plain": [
              "6"
            ]
          },
          "metadata": {},
          "execution_count": 87
        }
      ]
    },
    {
      "cell_type": "code",
      "metadata": {
        "colab": {
          "base_uri": "https://localhost:8080/"
        },
        "id": "iPW0-iDJAntt",
        "outputId": "95bf0c2c-bebf-4307-8f85-dc562ce3d67a"
      },
      "source": [
        "max(list1)"
      ],
      "execution_count": null,
      "outputs": [
        {
          "output_type": "execute_result",
          "data": {
            "text/plain": [
              "12"
            ]
          },
          "metadata": {},
          "execution_count": 88
        }
      ]
    },
    {
      "cell_type": "code",
      "metadata": {
        "colab": {
          "base_uri": "https://localhost:8080/"
        },
        "id": "g7cnwWE4AriU",
        "outputId": "80289254-4702-4bc5-df93-295c04ed85ac"
      },
      "source": [
        "min(list1)"
      ],
      "execution_count": null,
      "outputs": [
        {
          "output_type": "execute_result",
          "data": {
            "text/plain": [
              "2"
            ]
          },
          "metadata": {},
          "execution_count": 89
        }
      ]
    },
    {
      "cell_type": "markdown",
      "metadata": {
        "id": "X1jpv1K0Ayca"
      },
      "source": [
        "4_DICT DATA TYPE"
      ]
    },
    {
      "cell_type": "code",
      "metadata": {
        "colab": {
          "base_uri": "https://localhost:8080/"
        },
        "id": "o7xZJelWA2M-",
        "outputId": "1c08a6a1-4d03-430c-80db-c984b2a77da9"
      },
      "source": [
        "dict ={'Name':'Jessica', 'Age':'20','Country':'Philippines'}\n",
        "print(dict['Name'],dict['Age'],dict['Country'])"
      ],
      "execution_count": null,
      "outputs": [
        {
          "output_type": "stream",
          "name": "stdout",
          "text": [
            "Jessica 20 Philippines\n"
          ]
        }
      ]
    }
  ]
}